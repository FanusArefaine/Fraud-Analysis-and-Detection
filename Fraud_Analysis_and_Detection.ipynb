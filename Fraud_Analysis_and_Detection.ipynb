{
  "nbformat": 4,
  "nbformat_minor": 0,
  "metadata": {
    "colab": {
      "name": "Fraud Analysis and Detection.ipynb",
      "provenance": [],
      "authorship_tag": "ABX9TyM48urcyWw2/d6bUyoWcC+Q",
      "include_colab_link": true
    },
    "kernelspec": {
      "name": "python3",
      "display_name": "Python 3"
    }
  },
  "cells": [
    {
      "cell_type": "markdown",
      "metadata": {
        "id": "view-in-github",
        "colab_type": "text"
      },
      "source": [
        "<a href=\"https://colab.research.google.com/github/FanusArefaine/Fraud-Analysis-and-Detection/blob/master/Fraud_Analysis_and_Detection.ipynb\" target=\"_parent\"><img src=\"https://colab.research.google.com/assets/colab-badge.svg\" alt=\"Open In Colab\"/></a>"
      ]
    },
    {
      "cell_type": "code",
      "metadata": {
        "id": "5UX2-4AEehOw",
        "colab_type": "code",
        "colab": {
          "base_uri": "https://localhost:8080/",
          "height": 340
        },
        "outputId": "e89e8c82-b89b-48c6-f460-6cb2f7879f1a"
      },
      "source": [
        " !apt-get update\n",
        "!apt-get install openjdk-8-jdk-headless -qq > /dev/null\n",
        "!wget -q http://archive.apache.org/dist/spark/spark-2.3.1/spark-2.3.1-bin-hadoop2.7.tgz\n",
        "!tar xf spark-2.3.1-bin-hadoop2.7.tgz\n",
        "!pip install -q findspark"
      ],
      "execution_count": 1,
      "outputs": [
        {
          "output_type": "stream",
          "text": [
            "Ign:1 https://developer.download.nvidia.com/compute/cuda/repos/ubuntu1804/x86_64  InRelease\n",
            "Ign:2 https://developer.download.nvidia.com/compute/machine-learning/repos/ubuntu1804/x86_64  InRelease\n",
            "Hit:3 https://developer.download.nvidia.com/compute/cuda/repos/ubuntu1804/x86_64  Release\n",
            "Hit:4 http://ppa.launchpad.net/graphics-drivers/ppa/ubuntu bionic InRelease\n",
            "Hit:5 https://developer.download.nvidia.com/compute/machine-learning/repos/ubuntu1804/x86_64  Release\n",
            "Get:6 http://security.ubuntu.com/ubuntu bionic-security InRelease [88.7 kB]\n",
            "Get:7 https://cloud.r-project.org/bin/linux/ubuntu bionic-cran35/ InRelease [3,626 B]\n",
            "Hit:8 http://archive.ubuntu.com/ubuntu bionic InRelease\n",
            "Get:10 http://ppa.launchpad.net/marutter/c2d4u3.5/ubuntu bionic InRelease [15.4 kB]\n",
            "Get:11 http://archive.ubuntu.com/ubuntu bionic-updates InRelease [88.7 kB]\n",
            "Get:13 https://cloud.r-project.org/bin/linux/ubuntu bionic-cran35/ Packages [96.1 kB]\n",
            "Get:14 http://archive.ubuntu.com/ubuntu bionic-backports InRelease [74.6 kB]\n",
            "Get:15 http://security.ubuntu.com/ubuntu bionic-security/universe amd64 Packages [900 kB]\n",
            "Get:16 http://ppa.launchpad.net/marutter/c2d4u3.5/ubuntu bionic/main Sources [1,867 kB]\n",
            "Get:17 http://archive.ubuntu.com/ubuntu bionic-updates/universe amd64 Packages [1,428 kB]\n",
            "Get:18 http://archive.ubuntu.com/ubuntu bionic-updates/main amd64 Packages [1,384 kB]\n",
            "Get:19 http://ppa.launchpad.net/marutter/c2d4u3.5/ubuntu bionic/main amd64 Packages [901 kB]\n",
            "Fetched 6,849 kB in 6s (1,165 kB/s)\n",
            "Reading package lists... Done\n"
          ],
          "name": "stdout"
        }
      ]
    },
    {
      "cell_type": "code",
      "metadata": {
        "id": "_FbDa2Zwemah",
        "colab_type": "code",
        "colab": {}
      },
      "source": [
        "import os\n",
        "os.environ[\"JAVA_HOME\"] = \"/usr/lib/jvm/java-8-openjdk-amd64\"\n",
        "os.environ[\"SPARK_HOME\"] = \"/content/spark-2.3.1-bin-hadoop2.7\""
      ],
      "execution_count": 2,
      "outputs": []
    },
    {
      "cell_type": "code",
      "metadata": {
        "id": "fjdqIc5ge2Hw",
        "colab_type": "code",
        "colab": {
          "base_uri": "https://localhost:8080/",
          "height": 193
        },
        "outputId": "8e19c75b-8c36-4cc5-8006-0ae92f15ea57"
      },
      "source": [
        "import findspark\n",
        "findspark.init()\n",
        "from pyspark import SparkContext\n",
        "\n",
        "sc = SparkContext.getOrCreate()\n",
        "sc"
      ],
      "execution_count": 3,
      "outputs": [
        {
          "output_type": "execute_result",
          "data": {
            "text/html": [
              "\n",
              "        <div>\n",
              "            <p><b>SparkContext</b></p>\n",
              "\n",
              "            <p><a href=\"http://d7fa981fc06a:4040\">Spark UI</a></p>\n",
              "\n",
              "            <dl>\n",
              "              <dt>Version</dt>\n",
              "                <dd><code>v2.3.1</code></dd>\n",
              "              <dt>Master</dt>\n",
              "                <dd><code>local[*]</code></dd>\n",
              "              <dt>AppName</dt>\n",
              "                <dd><code>pyspark-shell</code></dd>\n",
              "            </dl>\n",
              "        </div>\n",
              "        "
            ],
            "text/plain": [
              "<SparkContext master=local[*] appName=pyspark-shell>"
            ]
          },
          "metadata": {
            "tags": []
          },
          "execution_count": 3
        }
      ]
    },
    {
      "cell_type": "code",
      "metadata": {
        "id": "iBmnp9Le55AB",
        "colab_type": "code",
        "colab": {
          "base_uri": "https://localhost:8080/",
          "height": 216
        },
        "outputId": "e012b55e-0948-4e89-f33d-aceef2a0ea66"
      },
      "source": [
        "import pyspark\n",
        "from pyspark.sql import SparkSession\n",
        "spark = SparkSession.builder.getOrCreate() \n",
        "spark"
      ],
      "execution_count": 4,
      "outputs": [
        {
          "output_type": "execute_result",
          "data": {
            "text/html": [
              "\n",
              "            <div>\n",
              "                <p><b>SparkSession - in-memory</b></p>\n",
              "                \n",
              "        <div>\n",
              "            <p><b>SparkContext</b></p>\n",
              "\n",
              "            <p><a href=\"http://d7fa981fc06a:4040\">Spark UI</a></p>\n",
              "\n",
              "            <dl>\n",
              "              <dt>Version</dt>\n",
              "                <dd><code>v2.3.1</code></dd>\n",
              "              <dt>Master</dt>\n",
              "                <dd><code>local[*]</code></dd>\n",
              "              <dt>AppName</dt>\n",
              "                <dd><code>pyspark-shell</code></dd>\n",
              "            </dl>\n",
              "        </div>\n",
              "        \n",
              "            </div>\n",
              "        "
            ],
            "text/plain": [
              "<pyspark.sql.session.SparkSession at 0x7fd36dd4d320>"
            ]
          },
          "metadata": {
            "tags": []
          },
          "execution_count": 4
        }
      ]
    },
    {
      "cell_type": "code",
      "metadata": {
        "id": "il3AUu0ue5Jl",
        "colab_type": "code",
        "colab": {
          "base_uri": "https://localhost:8080/",
          "height": 34
        },
        "outputId": "dcab03a8-8a57-4b11-fe10-3a9bbb744594"
      },
      "source": [
        "from google.colab import drive\n",
        "drive.mount('/content/drive')"
      ],
      "execution_count": 5,
      "outputs": [
        {
          "output_type": "stream",
          "text": [
            "Mounted at /content/drive\n"
          ],
          "name": "stdout"
        }
      ]
    },
    {
      "cell_type": "code",
      "metadata": {
        "id": "vIpxTiGPymQo",
        "colab_type": "code",
        "colab": {
          "base_uri": "https://localhost:8080/",
          "height": 289
        },
        "outputId": "99fb7ada-365b-4a6b-eaad-5a7137780857"
      },
      "source": [
        "import pandas as pd\n",
        "\n",
        "# Importing the dataset from the local google drive directory\n",
        "df = spark.read.csv('/content/drive/My Drive/colab_notes/datasets/Fraud_Detection_Dataset.csv', inferSchema=True, header=True)\n",
        "\n",
        "# moving the dataset to the memory for faster computation\n",
        "df.cache()\n",
        "\n",
        "# showing or printing the first 10 elements in the dataset\n",
        "df.show(10)"
      ],
      "execution_count": 12,
      "outputs": [
        {
          "output_type": "stream",
          "text": [
            "+----+--------+--------+-----------+-------------+--------------+-----------+--------------+--------------+-------+--------------+\n",
            "|step|    type|  amount|   nameOrig|oldbalanceOrg|newbalanceOrig|   nameDest|oldbalanceDest|newbalanceDest|isFraud|isFlaggedFraud|\n",
            "+----+--------+--------+-----------+-------------+--------------+-----------+--------------+--------------+-------+--------------+\n",
            "|   1| PAYMENT| 9839.64|C1231006815|     170136.0|     160296.36|M1979787155|           0.0|           0.0|      0|             0|\n",
            "|   1| PAYMENT| 1864.28|C1666544295|      21249.0|      19384.72|M2044282225|           0.0|           0.0|      0|             0|\n",
            "|   1|TRANSFER|   181.0|C1305486145|        181.0|           0.0| C553264065|           0.0|           0.0|      1|             0|\n",
            "|   1|CASH_OUT|   181.0| C840083671|        181.0|           0.0|  C38997010|       21182.0|           0.0|      1|             0|\n",
            "|   1| PAYMENT|11668.14|C2048537720|      41554.0|      29885.86|M1230701703|           0.0|           0.0|      0|             0|\n",
            "|   1| PAYMENT| 7817.71|  C90045638|      53860.0|      46042.29| M573487274|           0.0|           0.0|      0|             0|\n",
            "|   1| PAYMENT| 7107.77| C154988899|     183195.0|     176087.23| M408069119|           0.0|           0.0|      0|             0|\n",
            "|   1| PAYMENT| 7861.64|C1912850431|    176087.23|     168225.59| M633326333|           0.0|           0.0|      0|             0|\n",
            "|   1| PAYMENT| 4024.36|C1265012928|       2671.0|           0.0|M1176932104|           0.0|           0.0|      0|             0|\n",
            "|   1|   DEBIT| 5337.77| C712410124|      41720.0|      36382.23| C195600860|       41898.0|      40348.79|      0|             0|\n",
            "+----+--------+--------+-----------+-------------+--------------+-----------+--------------+--------------+-------+--------------+\n",
            "only showing top 10 rows\n",
            "\n"
          ],
          "name": "stdout"
        }
      ]
    },
    {
      "cell_type": "code",
      "metadata": {
        "id": "0l0L1yJKMIMC",
        "colab_type": "code",
        "colab": {
          "base_uri": "https://localhost:8080/",
          "height": 204
        },
        "outputId": "150b170f-ce78-4c78-9e63-1f66cbd16e83"
      },
      "source": [
        "# Checking on the top five elements using pandas dataframe -  a more prettier view\n",
        "import pandas as pd\n",
        "pd.DataFrame(df.take(5), columns=df.columns)"
      ],
      "execution_count": 13,
      "outputs": [
        {
          "output_type": "execute_result",
          "data": {
            "text/html": [
              "<div>\n",
              "<style scoped>\n",
              "    .dataframe tbody tr th:only-of-type {\n",
              "        vertical-align: middle;\n",
              "    }\n",
              "\n",
              "    .dataframe tbody tr th {\n",
              "        vertical-align: top;\n",
              "    }\n",
              "\n",
              "    .dataframe thead th {\n",
              "        text-align: right;\n",
              "    }\n",
              "</style>\n",
              "<table border=\"1\" class=\"dataframe\">\n",
              "  <thead>\n",
              "    <tr style=\"text-align: right;\">\n",
              "      <th></th>\n",
              "      <th>step</th>\n",
              "      <th>type</th>\n",
              "      <th>amount</th>\n",
              "      <th>nameOrig</th>\n",
              "      <th>oldbalanceOrg</th>\n",
              "      <th>newbalanceOrig</th>\n",
              "      <th>nameDest</th>\n",
              "      <th>oldbalanceDest</th>\n",
              "      <th>newbalanceDest</th>\n",
              "      <th>isFraud</th>\n",
              "      <th>isFlaggedFraud</th>\n",
              "    </tr>\n",
              "  </thead>\n",
              "  <tbody>\n",
              "    <tr>\n",
              "      <th>0</th>\n",
              "      <td>1</td>\n",
              "      <td>PAYMENT</td>\n",
              "      <td>9839.64</td>\n",
              "      <td>C1231006815</td>\n",
              "      <td>170136.0</td>\n",
              "      <td>160296.36</td>\n",
              "      <td>M1979787155</td>\n",
              "      <td>0.0</td>\n",
              "      <td>0.0</td>\n",
              "      <td>0</td>\n",
              "      <td>0</td>\n",
              "    </tr>\n",
              "    <tr>\n",
              "      <th>1</th>\n",
              "      <td>1</td>\n",
              "      <td>PAYMENT</td>\n",
              "      <td>1864.28</td>\n",
              "      <td>C1666544295</td>\n",
              "      <td>21249.0</td>\n",
              "      <td>19384.72</td>\n",
              "      <td>M2044282225</td>\n",
              "      <td>0.0</td>\n",
              "      <td>0.0</td>\n",
              "      <td>0</td>\n",
              "      <td>0</td>\n",
              "    </tr>\n",
              "    <tr>\n",
              "      <th>2</th>\n",
              "      <td>1</td>\n",
              "      <td>TRANSFER</td>\n",
              "      <td>181.00</td>\n",
              "      <td>C1305486145</td>\n",
              "      <td>181.0</td>\n",
              "      <td>0.00</td>\n",
              "      <td>C553264065</td>\n",
              "      <td>0.0</td>\n",
              "      <td>0.0</td>\n",
              "      <td>1</td>\n",
              "      <td>0</td>\n",
              "    </tr>\n",
              "    <tr>\n",
              "      <th>3</th>\n",
              "      <td>1</td>\n",
              "      <td>CASH_OUT</td>\n",
              "      <td>181.00</td>\n",
              "      <td>C840083671</td>\n",
              "      <td>181.0</td>\n",
              "      <td>0.00</td>\n",
              "      <td>C38997010</td>\n",
              "      <td>21182.0</td>\n",
              "      <td>0.0</td>\n",
              "      <td>1</td>\n",
              "      <td>0</td>\n",
              "    </tr>\n",
              "    <tr>\n",
              "      <th>4</th>\n",
              "      <td>1</td>\n",
              "      <td>PAYMENT</td>\n",
              "      <td>11668.14</td>\n",
              "      <td>C2048537720</td>\n",
              "      <td>41554.0</td>\n",
              "      <td>29885.86</td>\n",
              "      <td>M1230701703</td>\n",
              "      <td>0.0</td>\n",
              "      <td>0.0</td>\n",
              "      <td>0</td>\n",
              "      <td>0</td>\n",
              "    </tr>\n",
              "  </tbody>\n",
              "</table>\n",
              "</div>"
            ],
            "text/plain": [
              "   step      type    amount  ... newbalanceDest  isFraud  isFlaggedFraud\n",
              "0     1   PAYMENT   9839.64  ...            0.0        0               0\n",
              "1     1   PAYMENT   1864.28  ...            0.0        0               0\n",
              "2     1  TRANSFER    181.00  ...            0.0        1               0\n",
              "3     1  CASH_OUT    181.00  ...            0.0        1               0\n",
              "4     1   PAYMENT  11668.14  ...            0.0        0               0\n",
              "\n",
              "[5 rows x 11 columns]"
            ]
          },
          "metadata": {
            "tags": []
          },
          "execution_count": 13
        }
      ]
    },
    {
      "cell_type": "markdown",
      "metadata": {
        "id": "Q-5K_arNM2Iq",
        "colab_type": "text"
      },
      "source": [
        "### ***Summary Statistics for numeric features***"
      ]
    },
    {
      "cell_type": "code",
      "metadata": {
        "id": "RJtNU5BSM1LK",
        "colab_type": "code",
        "colab": {
          "base_uri": "https://localhost:8080/",
          "height": 328
        },
        "outputId": "66bc023f-92dc-4691-87a1-0f7647763fd2"
      },
      "source": [
        "numeric_features = [x for (x,dataType) in df.dtypes if dataType == 'int' or dataType == 'double']\n",
        "df.select(numeric_features).describe().toPandas().transpose()"
      ],
      "execution_count": 16,
      "outputs": [
        {
          "output_type": "execute_result",
          "data": {
            "text/html": [
              "<div>\n",
              "<style scoped>\n",
              "    .dataframe tbody tr th:only-of-type {\n",
              "        vertical-align: middle;\n",
              "    }\n",
              "\n",
              "    .dataframe tbody tr th {\n",
              "        vertical-align: top;\n",
              "    }\n",
              "\n",
              "    .dataframe thead th {\n",
              "        text-align: right;\n",
              "    }\n",
              "</style>\n",
              "<table border=\"1\" class=\"dataframe\">\n",
              "  <thead>\n",
              "    <tr style=\"text-align: right;\">\n",
              "      <th></th>\n",
              "      <th>0</th>\n",
              "      <th>1</th>\n",
              "      <th>2</th>\n",
              "      <th>3</th>\n",
              "      <th>4</th>\n",
              "    </tr>\n",
              "  </thead>\n",
              "  <tbody>\n",
              "    <tr>\n",
              "      <th>summary</th>\n",
              "      <td>count</td>\n",
              "      <td>mean</td>\n",
              "      <td>stddev</td>\n",
              "      <td>min</td>\n",
              "      <td>max</td>\n",
              "    </tr>\n",
              "    <tr>\n",
              "      <th>step</th>\n",
              "      <td>6362620</td>\n",
              "      <td>243.39724563151657</td>\n",
              "      <td>142.33197104913066</td>\n",
              "      <td>1</td>\n",
              "      <td>743</td>\n",
              "    </tr>\n",
              "    <tr>\n",
              "      <th>amount</th>\n",
              "      <td>6362620</td>\n",
              "      <td>179861.9035491287</td>\n",
              "      <td>603858.2314629209</td>\n",
              "      <td>0.0</td>\n",
              "      <td>9.244551664E7</td>\n",
              "    </tr>\n",
              "    <tr>\n",
              "      <th>oldbalanceOrg</th>\n",
              "      <td>6362620</td>\n",
              "      <td>833883.1040744764</td>\n",
              "      <td>2888242.673037527</td>\n",
              "      <td>0.0</td>\n",
              "      <td>5.958504037E7</td>\n",
              "    </tr>\n",
              "    <tr>\n",
              "      <th>newbalanceOrig</th>\n",
              "      <td>6362620</td>\n",
              "      <td>855113.6685785812</td>\n",
              "      <td>2924048.5029542595</td>\n",
              "      <td>0.0</td>\n",
              "      <td>4.958504037E7</td>\n",
              "    </tr>\n",
              "    <tr>\n",
              "      <th>oldbalanceDest</th>\n",
              "      <td>6362620</td>\n",
              "      <td>1100701.6665196533</td>\n",
              "      <td>3399180.1129944525</td>\n",
              "      <td>0.0</td>\n",
              "      <td>3.5601588935E8</td>\n",
              "    </tr>\n",
              "    <tr>\n",
              "      <th>newbalanceDest</th>\n",
              "      <td>6362620</td>\n",
              "      <td>1224996.3982019224</td>\n",
              "      <td>3674128.9421196915</td>\n",
              "      <td>0.0</td>\n",
              "      <td>3.5617927892E8</td>\n",
              "    </tr>\n",
              "    <tr>\n",
              "      <th>isFraud</th>\n",
              "      <td>6362620</td>\n",
              "      <td>0.001290820448180152</td>\n",
              "      <td>0.035904796801604424</td>\n",
              "      <td>0</td>\n",
              "      <td>1</td>\n",
              "    </tr>\n",
              "    <tr>\n",
              "      <th>isFlaggedFraud</th>\n",
              "      <td>6362620</td>\n",
              "      <td>2.51468734577894E-6</td>\n",
              "      <td>0.0015857747057365457</td>\n",
              "      <td>0</td>\n",
              "      <td>1</td>\n",
              "    </tr>\n",
              "  </tbody>\n",
              "</table>\n",
              "</div>"
            ],
            "text/plain": [
              "                      0                     1  ...    3               4\n",
              "summary           count                  mean  ...  min             max\n",
              "step            6362620    243.39724563151657  ...    1             743\n",
              "amount          6362620     179861.9035491287  ...  0.0   9.244551664E7\n",
              "oldbalanceOrg   6362620     833883.1040744764  ...  0.0   5.958504037E7\n",
              "newbalanceOrig  6362620     855113.6685785812  ...  0.0   4.958504037E7\n",
              "oldbalanceDest  6362620    1100701.6665196533  ...  0.0  3.5601588935E8\n",
              "newbalanceDest  6362620    1224996.3982019224  ...  0.0  3.5617927892E8\n",
              "isFraud         6362620  0.001290820448180152  ...    0               1\n",
              "isFlaggedFraud  6362620   2.51468734577894E-6  ...    0               1\n",
              "\n",
              "[9 rows x 5 columns]"
            ]
          },
          "metadata": {
            "tags": []
          },
          "execution_count": 16
        }
      ]
    },
    {
      "cell_type": "code",
      "metadata": {
        "id": "BB5zkUnKOXP1",
        "colab_type": "code",
        "colab": {}
      },
      "source": [
        "# Slicing the features so that we can work with only part of the data for this classification problem\n",
        "df = df.select(\"type\", \"amount\", \"oldbalanceOrg\",\"newbalanceOrig\", \"isFraud\")"
      ],
      "execution_count": 17,
      "outputs": []
    },
    {
      "cell_type": "code",
      "metadata": {
        "id": "UaWagMU75IUk",
        "colab_type": "code",
        "colab": {
          "base_uri": "https://localhost:8080/",
          "height": 136
        },
        "outputId": "d498c369-fdac-45b9-b84d-66d8d5973d1f"
      },
      "source": [
        "# checking the schema along with the datatypes of the attributes\n",
        "df.printSchema()"
      ],
      "execution_count": 18,
      "outputs": [
        {
          "output_type": "stream",
          "text": [
            "root\n",
            " |-- type: string (nullable = true)\n",
            " |-- amount: double (nullable = true)\n",
            " |-- oldbalanceOrg: double (nullable = true)\n",
            " |-- newbalanceOrig: double (nullable = true)\n",
            " |-- isFraud: integer (nullable = true)\n",
            "\n"
          ],
          "name": "stdout"
        }
      ]
    },
    {
      "cell_type": "code",
      "metadata": {
        "id": "fLB7zSCB7zpO",
        "colab_type": "code",
        "colab": {
          "base_uri": "https://localhost:8080/",
          "height": 153
        },
        "outputId": "0707a321-2cab-46c9-ad9b-1d029852e8f5"
      },
      "source": [
        "# showing the dataset with new slice of features\n",
        "df.show(2)"
      ],
      "execution_count": 19,
      "outputs": [
        {
          "output_type": "stream",
          "text": [
            "+-------+-------+-------------+--------------+-------+\n",
            "|   type| amount|oldbalanceOrg|newbalanceOrig|isFraud|\n",
            "+-------+-------+-------------+--------------+-------+\n",
            "|PAYMENT|9839.64|     170136.0|     160296.36|      0|\n",
            "|PAYMENT|1864.28|      21249.0|      19384.72|      0|\n",
            "+-------+-------+-------------+--------------+-------+\n",
            "only showing top 2 rows\n",
            "\n"
          ],
          "name": "stdout"
        }
      ]
    },
    {
      "cell_type": "code",
      "metadata": {
        "id": "DvwsQ-e1Opr8",
        "colab_type": "code",
        "colab": {}
      },
      "source": [
        "# Slicing the numeric features\n",
        "numeric_features = [x for (x,dataType) in df.dtypes if dataType == 'int' or dataType == 'double']"
      ],
      "execution_count": 20,
      "outputs": []
    },
    {
      "cell_type": "code",
      "metadata": {
        "id": "qNt1dD-P8CCr",
        "colab_type": "code",
        "colab": {
          "base_uri": "https://localhost:8080/",
          "height": 34
        },
        "outputId": "fe868117-c0d3-42b7-d426-9b4c3a556e10"
      },
      "source": [
        "# Unique transactions in the dataset\n",
        "df.count()"
      ],
      "execution_count": 24,
      "outputs": [
        {
          "output_type": "execute_result",
          "data": {
            "text/plain": [
              "6362620"
            ]
          },
          "metadata": {
            "tags": []
          },
          "execution_count": 24
        }
      ]
    },
    {
      "cell_type": "markdown",
      "metadata": {
        "id": "J71IY5r08-xM",
        "colab_type": "text"
      },
      "source": [
        "#### Spliting the dataset to train and test set before applying feature engineering techniques to the dataset\n",
        "\n",
        "#### Applying 80:20 train to test set ratio for the split\n"
      ]
    },
    {
      "cell_type": "markdown",
      "metadata": {
        "id": "yBo_3PL_9mUh",
        "colab_type": "text"
      },
      "source": [
        "# ***Train/Test Split*** "
      ]
    },
    {
      "cell_type": "code",
      "metadata": {
        "id": "IWp4PDsq8Ikl",
        "colab_type": "code",
        "colab": {}
      },
      "source": [
        "train, test = df.randomSplit((0.8, 0.3), seed=42)"
      ],
      "execution_count": 25,
      "outputs": []
    },
    {
      "cell_type": "code",
      "metadata": {
        "id": "qlKYl83R97vQ",
        "colab_type": "code",
        "colab": {
          "base_uri": "https://localhost:8080/",
          "height": 51
        },
        "outputId": "d76d2d1d-bc6d-4193-89c9-a1011fc3e682"
      },
      "source": [
        "print(f\"Train set length: {train.count()} records\")\n",
        "print(f\"Test set length: {test.count()} records\")"
      ],
      "execution_count": 26,
      "outputs": [
        {
          "output_type": "stream",
          "text": [
            "Train set length: 4626812 records\n",
            "Test set length: 1735808 records\n"
          ],
          "name": "stdout"
        }
      ]
    },
    {
      "cell_type": "code",
      "metadata": {
        "id": "TOamwWFa-MLH",
        "colab_type": "code",
        "colab": {
          "base_uri": "https://localhost:8080/",
          "height": 204
        },
        "outputId": "940215bc-d772-4597-9272-fe1536949a4b"
      },
      "source": [
        "train.show(5)"
      ],
      "execution_count": 27,
      "outputs": [
        {
          "output_type": "stream",
          "text": [
            "+-------+------+-------------+--------------+-------+\n",
            "|   type|amount|oldbalanceOrg|newbalanceOrig|isFraud|\n",
            "+-------+------+-------------+--------------+-------+\n",
            "|CASH_IN|  1.42|   1270713.41|    1270714.83|      0|\n",
            "|CASH_IN|  5.19|      18104.0|      18109.19|      0|\n",
            "|CASH_IN|  5.44|          0.0|          5.44|      0|\n",
            "|CASH_IN|  5.66|   5061561.06|    5061566.72|      0|\n",
            "|CASH_IN|  6.07|     400680.0|     400686.07|      0|\n",
            "+-------+------+-------------+--------------+-------+\n",
            "only showing top 5 rows\n",
            "\n"
          ],
          "name": "stdout"
        }
      ]
    },
    {
      "cell_type": "code",
      "metadata": {
        "id": "82FVuryX-S_8",
        "colab_type": "code",
        "colab": {
          "base_uri": "https://localhost:8080/",
          "height": 204
        },
        "outputId": "bf6f7aa7-b705-472a-edfd-710c8b4a775f"
      },
      "source": [
        "test.show(5)"
      ],
      "execution_count": 28,
      "outputs": [
        {
          "output_type": "stream",
          "text": [
            "+-------+------+-------------+--------------+-------+\n",
            "|   type|amount|oldbalanceOrg|newbalanceOrig|isFraud|\n",
            "+-------+------+-------------+--------------+-------+\n",
            "|CASH_IN|  4.35|   4136277.22|    4136281.57|      0|\n",
            "|CASH_IN|  4.58|      94241.0|      94245.58|      0|\n",
            "|CASH_IN|  4.71|      50198.0|      50202.71|      0|\n",
            "|CASH_IN|  9.02|   2416260.59|    2416269.61|      0|\n",
            "|CASH_IN| 11.13|   4116439.74|    4116450.87|      0|\n",
            "+-------+------+-------------+--------------+-------+\n",
            "only showing top 5 rows\n",
            "\n"
          ],
          "name": "stdout"
        }
      ]
    },
    {
      "cell_type": "markdown",
      "metadata": {
        "id": "ERIBFjHp_jSm",
        "colab_type": "text"
      },
      "source": [
        "# ***Feature Engineering***"
      ]
    },
    {
      "cell_type": "markdown",
      "metadata": {
        "id": "IVyhoFdu_oq6",
        "colab_type": "text"
      },
      "source": [
        "### **Encoding Categorical Features**"
      ]
    },
    {
      "cell_type": "code",
      "metadata": {
        "id": "mBg_IUUb-aTm",
        "colab_type": "code",
        "colab": {
          "base_uri": "https://localhost:8080/",
          "height": 102
        },
        "outputId": "46417202-14c9-44a0-a346-1727d5bee18a"
      },
      "source": [
        "# Checking the datatypes of the training data\n",
        "train.dtypes"
      ],
      "execution_count": 29,
      "outputs": [
        {
          "output_type": "execute_result",
          "data": {
            "text/plain": [
              "[('type', 'string'),\n",
              " ('amount', 'double'),\n",
              " ('oldbalanceOrg', 'double'),\n",
              " ('newbalanceOrig', 'double'),\n",
              " ('isFraud', 'int')]"
            ]
          },
          "metadata": {
            "tags": []
          },
          "execution_count": 29
        }
      ]
    },
    {
      "cell_type": "code",
      "metadata": {
        "id": "ESxYobvi_yXR",
        "colab_type": "code",
        "colab": {
          "base_uri": "https://localhost:8080/",
          "height": 34
        },
        "outputId": "89f15d61-f1e9-4d94-9feb-17ee479c0ec4"
      },
      "source": [
        "# Filtering categorical fetures from the dataset\n",
        "catCols = [x for (x, dataType) in train.dtypes if dataType == \"string\"]\n",
        "catCols"
      ],
      "execution_count": 30,
      "outputs": [
        {
          "output_type": "execute_result",
          "data": {
            "text/plain": [
              "['type']"
            ]
          },
          "metadata": {
            "tags": []
          },
          "execution_count": 30
        }
      ]
    },
    {
      "cell_type": "code",
      "metadata": {
        "id": "igvGIv8AAZGw",
        "colab_type": "code",
        "colab": {
          "base_uri": "https://localhost:8080/",
          "height": 34
        },
        "outputId": "ca2e4547-0b88-4865-f50d-5180759bf8a7"
      },
      "source": [
        "# Filtering numeric features, except the target feature(isFraud)\n",
        "\n",
        "numCols = [x for (x, dataType) in train.dtypes if dataType==\"double\" and x != \"isFraud\"]\n",
        "numCols"
      ],
      "execution_count": 31,
      "outputs": [
        {
          "output_type": "execute_result",
          "data": {
            "text/plain": [
              "['amount', 'oldbalanceOrg', 'newbalanceOrig']"
            ]
          },
          "metadata": {
            "tags": []
          },
          "execution_count": 31
        }
      ]
    },
    {
      "cell_type": "markdown",
      "metadata": {
        "id": "0-51FpzXD4ao",
        "colab_type": "text"
      },
      "source": [
        "#### *One-Hot-Encoding*"
      ]
    },
    {
      "cell_type": "code",
      "metadata": {
        "id": "kLBQxxP4BR75",
        "colab_type": "code",
        "colab": {
          "base_uri": "https://localhost:8080/",
          "height": 187
        },
        "outputId": "a85f6e9e-c4cf-4a73-f389-836ab74197f1"
      },
      "source": [
        "# checking how many distict or unique values the 'type' feature has along with the number of elements these types represent\n",
        "train.groupBy(\"type\").count().show()"
      ],
      "execution_count": 32,
      "outputs": [
        {
          "output_type": "stream",
          "text": [
            "+--------+-------+\n",
            "|    type|  count|\n",
            "+--------+-------+\n",
            "|TRANSFER| 387494|\n",
            "| CASH_IN|1018367|\n",
            "|CASH_OUT|1626504|\n",
            "| PAYMENT|1564235|\n",
            "|   DEBIT|  30212|\n",
            "+--------+-------+\n",
            "\n"
          ],
          "name": "stdout"
        }
      ]
    },
    {
      "cell_type": "code",
      "metadata": {
        "id": "I-_Ps_xiEL9R",
        "colab_type": "code",
        "colab": {}
      },
      "source": [
        "## changing the 'type' categories into one hot encoded representation \n",
        "\n",
        "from pyspark.ml.feature import OneHotEncoderEstimator, OneHotEncoderModel\n"
      ],
      "execution_count": 33,
      "outputs": []
    },
    {
      "cell_type": "code",
      "metadata": {
        "colab_type": "code",
        "id": "H5AvZWLDJgis",
        "colab": {}
      },
      "source": [
        "from pyspark.ml.feature import OneHotEncoderEstimator, OneHotEncoderModel, StringIndexer\n",
        "\n",
        "# The index of string vlaues multiple columns\n",
        "indexers = [\n",
        "    StringIndexer(inputCol=x, outputCol=x + \"_StringIndexer\", handleInvalid=\"skip\")\n",
        "    for x in catCols\n",
        "]"
      ],
      "execution_count": 34,
      "outputs": []
    },
    {
      "cell_type": "code",
      "metadata": {
        "id": "0aKsn76IK2X3",
        "colab_type": "code",
        "colab": {
          "base_uri": "https://localhost:8080/",
          "height": 34
        },
        "outputId": "99b70c75-7d14-46bc-e19f-fa1bd251fb3f"
      },
      "source": [
        "indexers"
      ],
      "execution_count": 35,
      "outputs": [
        {
          "output_type": "execute_result",
          "data": {
            "text/plain": [
              "[StringIndexer_41568167e16da8be47fd]"
            ]
          },
          "metadata": {
            "tags": []
          },
          "execution_count": 35
        }
      ]
    },
    {
      "cell_type": "code",
      "metadata": {
        "id": "jQjSHQcKFOGZ",
        "colab_type": "code",
        "colab": {}
      },
      "source": [
        "# Encoding \n",
        "encoders = [\n",
        "            OneHotEncoderEstimator(\n",
        "                inputCols=[f\"{x}_StringIndexer\" for x in catCols],\n",
        "                outputCols=[f\"{x}_OneHotEncoder\" for x in catCols], \n",
        "    )\n",
        "]"
      ],
      "execution_count": 36,
      "outputs": []
    },
    {
      "cell_type": "code",
      "metadata": {
        "id": "xIP12WvfH8gb",
        "colab_type": "code",
        "colab": {
          "base_uri": "https://localhost:8080/",
          "height": 34
        },
        "outputId": "1cb1635c-8f6f-41bf-d005-1b03d67bca1b"
      },
      "source": [
        "encoders"
      ],
      "execution_count": 37,
      "outputs": [
        {
          "output_type": "execute_result",
          "data": {
            "text/plain": [
              "[OneHotEncoderEstimator_4284b4562fe60c55add5]"
            ]
          },
          "metadata": {
            "tags": []
          },
          "execution_count": 37
        }
      ]
    },
    {
      "cell_type": "markdown",
      "metadata": {
        "id": "luXwsopxNpQF",
        "colab_type": "text"
      },
      "source": [
        "### **Vector Assembler**"
      ]
    },
    {
      "cell_type": "code",
      "metadata": {
        "id": "chKKRIloLSNo",
        "colab_type": "code",
        "colab": {}
      },
      "source": [
        "# Converting the features into vectors for the machine learning algorithms\n",
        "from pyspark.ml.feature import VectorAssembler"
      ],
      "execution_count": 38,
      "outputs": []
    },
    {
      "cell_type": "code",
      "metadata": {
        "id": "7E3HGsjJOJ-P",
        "colab_type": "code",
        "colab": {}
      },
      "source": [
        "# The assembler will accept the numerical as well as the categorical input \n",
        "\n",
        "assemblerInput = [x for x in numCols]\n",
        "assemblerInput += [f\"{x}_OneHotEncoder\" for x in catCols]"
      ],
      "execution_count": 39,
      "outputs": []
    },
    {
      "cell_type": "code",
      "metadata": {
        "id": "EZ1TUj_KPIEQ",
        "colab_type": "code",
        "colab": {
          "base_uri": "https://localhost:8080/",
          "height": 34
        },
        "outputId": "cb25405d-57e0-4a61-cb71-c7bef349e2ca"
      },
      "source": [
        "# assembler input sanity check\n",
        "assemblerInput"
      ],
      "execution_count": 40,
      "outputs": [
        {
          "output_type": "execute_result",
          "data": {
            "text/plain": [
              "['amount', 'oldbalanceOrg', 'newbalanceOrig', 'type_OneHotEncoder']"
            ]
          },
          "metadata": {
            "tags": []
          },
          "execution_count": 40
        }
      ]
    },
    {
      "cell_type": "code",
      "metadata": {
        "id": "C7KbMhF_PKis",
        "colab_type": "code",
        "colab": {}
      },
      "source": [
        "# applying vector assembler to all the features\n",
        "vector_assembler = VectorAssembler(\n",
        "    inputCols=assemblerInput, outputCol = \"VectorAssembler_features\"\n",
        ")"
      ],
      "execution_count": 41,
      "outputs": []
    },
    {
      "cell_type": "code",
      "metadata": {
        "id": "lQY41H_2SMOW",
        "colab_type": "code",
        "colab": {}
      },
      "source": [
        "stages = []\n",
        "stages += indexers\n",
        "stages += encoders\n",
        "stages += [vector_assembler]"
      ],
      "execution_count": 42,
      "outputs": []
    },
    {
      "cell_type": "code",
      "metadata": {
        "id": "hdju1xshSqYt",
        "colab_type": "code",
        "colab": {
          "base_uri": "https://localhost:8080/",
          "height": 68
        },
        "outputId": "cd3872b9-34d5-4bb3-c05a-27483371b0f2"
      },
      "source": [
        "# Stages of feature engineering for the pipeline\n",
        "stages"
      ],
      "execution_count": 43,
      "outputs": [
        {
          "output_type": "execute_result",
          "data": {
            "text/plain": [
              "[StringIndexer_41568167e16da8be47fd,\n",
              " OneHotEncoderEstimator_4284b4562fe60c55add5,\n",
              " VectorAssembler_4afc8dcf1d74930bb53d]"
            ]
          },
          "metadata": {
            "tags": []
          },
          "execution_count": 43
        }
      ]
    },
    {
      "cell_type": "code",
      "metadata": {
        "id": "v_hb8-qRSrcN",
        "colab_type": "code",
        "colab": {
          "base_uri": "https://localhost:8080/",
          "height": 51
        },
        "outputId": "29ef3f10-3a4a-4701-cc5b-cb66922a87c5"
      },
      "source": [
        "%%time\n",
        "\n",
        "# Defining the pipeline and fitting the training data \n",
        "from pyspark.ml import Pipeline\n",
        "\n",
        "pipeline = Pipeline().setStages(stages)\n",
        "model = pipeline.fit(train)"
      ],
      "execution_count": 44,
      "outputs": [
        {
          "output_type": "stream",
          "text": [
            "CPU times: user 15 ms, sys: 3.73 ms, total: 18.7 ms\n",
            "Wall time: 15 s\n"
          ],
          "name": "stdout"
        }
      ]
    },
    {
      "cell_type": "code",
      "metadata": {
        "id": "ucMwmwJYf4aX",
        "colab_type": "code",
        "colab": {}
      },
      "source": [
        "train = model.transform(train)"
      ],
      "execution_count": 45,
      "outputs": []
    },
    {
      "cell_type": "code",
      "metadata": {
        "id": "YPqZ5EAPgXuB",
        "colab_type": "code",
        "colab": {
          "base_uri": "https://localhost:8080/",
          "height": 204
        },
        "outputId": "437cad69-0b66-4ac5-f47a-f6b368cbd77b"
      },
      "source": [
        "# Checking the training transformed data\n",
        "\n",
        "train.select(\n",
        "    \"type\", \"amount\", \"oldbalanceOrg\", \"newbalanceOrig\", \"VectorAssembler_features\",\n",
        ").show(5, truncate=False)"
      ],
      "execution_count": 46,
      "outputs": [
        {
          "output_type": "stream",
          "text": [
            "+-------+------+-------------+--------------+--------------------------------------------+\n",
            "|type   |amount|oldbalanceOrg|newbalanceOrig|VectorAssembler_features                    |\n",
            "+-------+------+-------------+--------------+--------------------------------------------+\n",
            "|CASH_IN|1.42  |1270713.41   |1270714.83    |[1.42,1270713.41,1270714.83,0.0,0.0,1.0,0.0]|\n",
            "|CASH_IN|5.19  |18104.0      |18109.19      |[5.19,18104.0,18109.19,0.0,0.0,1.0,0.0]     |\n",
            "|CASH_IN|5.44  |0.0          |5.44          |(7,[0,2,5],[5.44,5.44,1.0])                 |\n",
            "|CASH_IN|5.66  |5061561.06   |5061566.72    |[5.66,5061561.06,5061566.72,0.0,0.0,1.0,0.0]|\n",
            "|CASH_IN|6.07  |400680.0     |400686.07     |[6.07,400680.0,400686.07,0.0,0.0,1.0,0.0]   |\n",
            "+-------+------+-------------+--------------+--------------------------------------------+\n",
            "only showing top 5 rows\n",
            "\n"
          ],
          "name": "stdout"
        }
      ]
    },
    {
      "cell_type": "code",
      "metadata": {
        "id": "keQRBftXTfax",
        "colab_type": "code",
        "colab": {}
      },
      "source": [
        "# Transforming the test set on the same model the training dataset is fit\n",
        "pp_df = model.transform(test)"
      ],
      "execution_count": 47,
      "outputs": []
    },
    {
      "cell_type": "code",
      "metadata": {
        "id": "kNFmJwcYTnr_",
        "colab_type": "code",
        "colab": {
          "base_uri": "https://localhost:8080/",
          "height": 204
        },
        "outputId": "d23d85f5-1f53-4e1b-df44-41cafe199ebd"
      },
      "source": [
        "# Checking the test transformed data\n",
        "\n",
        "pp_df.select(\n",
        "    \"type\", \"amount\", \"oldbalanceOrg\", \"newbalanceOrig\", \"VectorAssembler_features\",\n",
        ").show(5, truncate=False)"
      ],
      "execution_count": 48,
      "outputs": [
        {
          "output_type": "stream",
          "text": [
            "+-------+------+-------------+--------------+---------------------------------------------+\n",
            "|type   |amount|oldbalanceOrg|newbalanceOrig|VectorAssembler_features                     |\n",
            "+-------+------+-------------+--------------+---------------------------------------------+\n",
            "|CASH_IN|4.35  |4136277.22   |4136281.57    |[4.35,4136277.22,4136281.57,0.0,0.0,1.0,0.0] |\n",
            "|CASH_IN|4.58  |94241.0      |94245.58      |[4.58,94241.0,94245.58,0.0,0.0,1.0,0.0]      |\n",
            "|CASH_IN|4.71  |50198.0      |50202.71      |[4.71,50198.0,50202.71,0.0,0.0,1.0,0.0]      |\n",
            "|CASH_IN|9.02  |2416260.59   |2416269.61    |[9.02,2416260.59,2416269.61,0.0,0.0,1.0,0.0] |\n",
            "|CASH_IN|11.13 |4116439.74   |4116450.87    |[11.13,4116439.74,4116450.87,0.0,0.0,1.0,0.0]|\n",
            "+-------+------+-------------+--------------+---------------------------------------------+\n",
            "only showing top 5 rows\n",
            "\n"
          ],
          "name": "stdout"
        }
      ]
    },
    {
      "cell_type": "markdown",
      "metadata": {
        "id": "SauKu0iOYdzq",
        "colab_type": "text"
      },
      "source": [
        "## **Building Model**"
      ]
    },
    {
      "cell_type": "markdown",
      "metadata": {
        "id": "RYOgV_zCYh5Q",
        "colab_type": "text"
      },
      "source": [
        "#### **Logistic Regression**"
      ]
    },
    {
      "cell_type": "code",
      "metadata": {
        "id": "qDTE4ythX7QO",
        "colab_type": "code",
        "colab": {}
      },
      "source": [
        "from pyspark.ml.classification import LogisticRegression"
      ],
      "execution_count": 49,
      "outputs": []
    },
    {
      "cell_type": "code",
      "metadata": {
        "id": "vSjdfDs4YrJU",
        "colab_type": "code",
        "colab": {}
      },
      "source": [
        "from pyspark.sql import functions as F\n",
        "\n",
        "train_data = train.select(F.col(\"VectorAssembler_features\").alias(\"features\"),\n",
        "    F.col(\"isFraud\").alias(\"label\")\n",
        ")\n",
        "\n",
        "test_data = pp_df.select(F.col(\"VectorAssembler_features\").alias(\"features\"),\n",
        "    F.col(\"isFraud\").alias(\"label\")\n",
        ")"
      ],
      "execution_count": 50,
      "outputs": []
    },
    {
      "cell_type": "code",
      "metadata": {
        "id": "ZOsMnU7XhL_i",
        "colab_type": "code",
        "colab": {
          "base_uri": "https://localhost:8080/",
          "height": 204
        },
        "outputId": "a3c8329d-4364-40bb-d719-b3c57ef69d57"
      },
      "source": [
        "train_data.show(5, truncate=False)"
      ],
      "execution_count": 51,
      "outputs": [
        {
          "output_type": "stream",
          "text": [
            "+--------------------------------------------+-----+\n",
            "|features                                    |label|\n",
            "+--------------------------------------------+-----+\n",
            "|[1.42,1270713.41,1270714.83,0.0,0.0,1.0,0.0]|0    |\n",
            "|[5.19,18104.0,18109.19,0.0,0.0,1.0,0.0]     |0    |\n",
            "|(7,[0,2,5],[5.44,5.44,1.0])                 |0    |\n",
            "|[5.66,5061561.06,5061566.72,0.0,0.0,1.0,0.0]|0    |\n",
            "|[6.07,400680.0,400686.07,0.0,0.0,1.0,0.0]   |0    |\n",
            "+--------------------------------------------+-----+\n",
            "only showing top 5 rows\n",
            "\n"
          ],
          "name": "stdout"
        }
      ]
    },
    {
      "cell_type": "code",
      "metadata": {
        "id": "HqDg9dRtZPBT",
        "colab_type": "code",
        "colab": {
          "base_uri": "https://localhost:8080/",
          "height": 204
        },
        "outputId": "c4428f02-d167-445c-a33c-12b71d060e03"
      },
      "source": [
        "test_data.show(5, truncate=False)"
      ],
      "execution_count": 52,
      "outputs": [
        {
          "output_type": "stream",
          "text": [
            "+---------------------------------------------+-----+\n",
            "|features                                     |label|\n",
            "+---------------------------------------------+-----+\n",
            "|[4.35,4136277.22,4136281.57,0.0,0.0,1.0,0.0] |0    |\n",
            "|[4.58,94241.0,94245.58,0.0,0.0,1.0,0.0]      |0    |\n",
            "|[4.71,50198.0,50202.71,0.0,0.0,1.0,0.0]      |0    |\n",
            "|[9.02,2416260.59,2416269.61,0.0,0.0,1.0,0.0] |0    |\n",
            "|[11.13,4116439.74,4116450.87,0.0,0.0,1.0,0.0]|0    |\n",
            "+---------------------------------------------+-----+\n",
            "only showing top 5 rows\n",
            "\n"
          ],
          "name": "stdout"
        }
      ]
    },
    {
      "cell_type": "code",
      "metadata": {
        "id": "Ll1XgCUna3Me",
        "colab_type": "code",
        "colab": {
          "base_uri": "https://localhost:8080/",
          "height": 51
        },
        "outputId": "0b20bc44-77ec-4ede-fbf6-53238014a21a"
      },
      "source": [
        "%%time\n",
        "model = LogisticRegression(maxIter=10).fit(train_data)"
      ],
      "execution_count": 53,
      "outputs": [
        {
          "output_type": "stream",
          "text": [
            "CPU times: user 31 ms, sys: 4.04 ms, total: 35.1 ms\n",
            "Wall time: 1min 29s\n"
          ],
          "name": "stdout"
        }
      ]
    },
    {
      "cell_type": "code",
      "metadata": {
        "id": "fGo5aRKuU3kB",
        "colab_type": "code",
        "colab": {
          "base_uri": "https://localhost:8080/",
          "height": 265
        },
        "outputId": "5d512e7a-b9cb-452c-9035-230096c926b4"
      },
      "source": [
        "# Visualizing beta coefficients\n",
        "\n",
        "import matplotlib.pyplot as plt\n",
        "import numpy as np\n",
        "\n",
        "beta = np.sort(model.coefficients)\n",
        "plt.plot(beta)\n",
        "plt.ylabel('Beta Coefficients')\n",
        "plt.show()"
      ],
      "execution_count": 54,
      "outputs": [
        {
          "output_type": "display_data",
          "data": {
            "image/png": "[encoded data removed]",
            "text/plain": [
              "<Figure size 432x288 with 1 Axes>"
            ]
          },
          "metadata": {
            "tags": [],
            "needs_background": "light"
          }
        }
      ]
    },
    {
      "cell_type": "code",
      "metadata": {
        "id": "3SL28tufVfWr",
        "colab_type": "code",
        "colab": {
          "base_uri": "https://localhost:8080/",
          "height": 312
        },
        "outputId": "bb21d05d-7162-4929-bf30-f0cdc71a39d5"
      },
      "source": [
        "# Evaluating Logistic Regression using ROC Curve\n",
        "\n",
        "trainingSummary = model.summary\n",
        "\n",
        "roc = trainingSummary.roc.toPandas()\n",
        "plt.plot(roc['FPR'], roc['TPR'])\n",
        "plt.ylabel('False Positive Rate')\n",
        "plt.xlabel('True Positive Rate')\n",
        "plt.title('ROC Curve')\n",
        "plt.show()\n",
        "\n",
        "print('Training set areaUnderROC: ' +\n",
        "      str(trainingSummary.areaUnderROC))"
      ],
      "execution_count": 56,
      "outputs": [
        {
          "output_type": "display_data",
          "data": {
            "image/png": "[encoded data removed]",
            "text/plain": [
              "<Figure size 432x288 with 1 Axes>"
            ]
          },
          "metadata": {
            "tags": [],
            "needs_background": "light"
          }
        },
        {
          "output_type": "stream",
          "text": [
            "Training set areaUnderROC: 0.9541994522078049\n"
          ],
          "name": "stdout"
        }
      ]
    },
    {
      "cell_type": "code",
      "metadata": {
        "id": "f-uDLqsaWsw_",
        "colab_type": "code",
        "colab": {
          "base_uri": "https://localhost:8080/",
          "height": 279
        },
        "outputId": "0aa81f8f-50f8-4be2-eb35-070e385cee83"
      },
      "source": [
        "# Precision and Recall\n",
        "\n",
        "pr = trainingSummary.pr.toPandas()\n",
        "plt.plot(pr['recall'], pr['precision'])\n",
        "plt.ylabel('Precision')\n",
        "plt.xlabel('Recall')\n",
        "plt.show()"
      ],
      "execution_count": 57,
      "outputs": [
        {
          "output_type": "display_data",
          "data": {
            "image/png": "[encoded data removed]",
            "text/plain": [
              "<Figure size 432x288 with 1 Axes>"
            ]
          },
          "metadata": {
            "tags": [],
            "needs_background": "light"
          }
        }
      ]
    },
    {
      "cell_type": "code",
      "metadata": {
        "id": "-Z37kA3mWshf",
        "colab_type": "code",
        "colab": {
          "base_uri": "https://localhost:8080/",
          "height": 289
        },
        "outputId": "1b6d3481-ba81-4d4c-8d80-21017c858a61"
      },
      "source": [
        "# MAKING PREDICTIONS ON THE TEST SET\n",
        "\n",
        "predictions = model.transform(test_data)\n",
        "predictions.show(10)"
      ],
      "execution_count": 58,
      "outputs": [
        {
          "output_type": "stream",
          "text": [
            "+--------------------+-----+--------------------+--------------------+----------+\n",
            "|            features|label|       rawPrediction|         probability|prediction|\n",
            "+--------------------+-----+--------------------+--------------------+----------+\n",
            "|[4.35,4136277.22,...|    0|[16.1147652581929...|[0.99999989966641...|       0.0|\n",
            "|[4.58,94241.0,942...|    0|[17.8607125411645...|[0.99999998249383...|       0.0|\n",
            "|[4.71,50198.0,502...|    0|[17.8797368973542...|[0.99999998282372...|       0.0|\n",
            "|[9.02,2416260.59,...|    0|[16.8577254513155...|[0.99999995227094...|       0.0|\n",
            "|[11.13,4116439.74...|    0|[16.1233390138053...|[0.99999990052297...|       0.0|\n",
            "|[16.3,2.140511936...|    0|[8.65554229070319...|[0.99982587139707...|       0.0|\n",
            "|[17.33,8964056.72...|    0|[14.0294279495163...|[0.99999919258557...|       0.0|\n",
            "|(7,[0,2,5],[22.31...|    0|[17.9014327922638...|[0.99999998319236...|       0.0|\n",
            "|[22.67,405940.0,4...|    0|[17.7260883228332...|[0.99999997997107...|       0.0|\n",
            "|[34.58,26620.0,26...|    0|[17.8899434138967...|[0.99999998299814...|       0.0|\n",
            "+--------------------+-----+--------------------+--------------------+----------+\n",
            "only showing top 10 rows\n",
            "\n"
          ],
          "name": "stdout"
        }
      ]
    },
    {
      "cell_type": "code",
      "metadata": {
        "id": "9crdyIwfXknJ",
        "colab_type": "code",
        "colab": {
          "base_uri": "https://localhost:8080/",
          "height": 34
        },
        "outputId": "361f26e4-fb6c-49c7-c341-8f3db90498ff"
      },
      "source": [
        "# Final Evaluation of the logistic regression\n",
        "\n",
        "from pyspark.ml.evaluation import BinaryClassificationEvaluator\n",
        "\n",
        "evaluator = BinaryClassificationEvaluator()\n",
        "print(\"Test Area Under ROC\", evaluator.evaluate(predictions))"
      ],
      "execution_count": 59,
      "outputs": [
        {
          "output_type": "stream",
          "text": [
            "Test Area Under ROC 0.9566783744671705\n"
          ],
          "name": "stdout"
        }
      ]
    },
    {
      "cell_type": "code",
      "metadata": {
        "id": "-d85DTpvYT47",
        "colab_type": "code",
        "colab": {}
      },
      "source": [
        ""
      ],
      "execution_count": null,
      "outputs": []
    },
    {
      "cell_type": "markdown",
      "metadata": {
        "id": "wBpKy-QpYXkr",
        "colab_type": "text"
      },
      "source": [
        "## ***Decision Tree Classifier***"
      ]
    },
    {
      "cell_type": "code",
      "metadata": {
        "id": "tBxucHJtYXA0",
        "colab_type": "code",
        "colab": {}
      },
      "source": [
        "from pyspark.ml.classification import DecisionTreeClassifier"
      ],
      "execution_count": 60,
      "outputs": []
    },
    {
      "cell_type": "code",
      "metadata": {
        "id": "fcRaDZgjYUI0",
        "colab_type": "code",
        "colab": {
          "base_uri": "https://localhost:8080/",
          "height": 459
        },
        "outputId": "1cd6d673-dd77-4a9b-98ad-8b060a2634d3"
      },
      "source": [
        "dt = DecisionTreeClassifier(maxDepth=3)\n",
        "dtModel = dt.fit(train_data)\n",
        "predictions = dtModel.transform(test_data) \n",
        "predictions.show()"
      ],
      "execution_count": 62,
      "outputs": [
        {
          "output_type": "stream",
          "text": [
            "+--------------------+-----+---------------+-----------+----------+\n",
            "|            features|label|  rawPrediction|probability|prediction|\n",
            "+--------------------+-----+---------------+-----------+----------+\n",
            "|[4.35,4136277.22,...|    0|[2611231.0,0.0]|  [1.0,0.0]|       0.0|\n",
            "|[4.58,94241.0,942...|    0|[2611231.0,0.0]|  [1.0,0.0]|       0.0|\n",
            "|[4.71,50198.0,502...|    0|[2611231.0,0.0]|  [1.0,0.0]|       0.0|\n",
            "|[9.02,2416260.59,...|    0|[2611231.0,0.0]|  [1.0,0.0]|       0.0|\n",
            "|[11.13,4116439.74...|    0|[2611231.0,0.0]|  [1.0,0.0]|       0.0|\n",
            "|[16.3,2.140511936...|    0|[2611231.0,0.0]|  [1.0,0.0]|       0.0|\n",
            "|[17.33,8964056.72...|    0|[2611231.0,0.0]|  [1.0,0.0]|       0.0|\n",
            "|(7,[0,2,5],[22.31...|    0|[2611231.0,0.0]|  [1.0,0.0]|       0.0|\n",
            "|[22.67,405940.0,4...|    0|[2611231.0,0.0]|  [1.0,0.0]|       0.0|\n",
            "|[34.58,26620.0,26...|    0|[2611231.0,0.0]|  [1.0,0.0]|       0.0|\n",
            "|[34.96,861971.71,...|    0|[2611231.0,0.0]|  [1.0,0.0]|       0.0|\n",
            "|[35.88,5099107.81...|    0|[2611231.0,0.0]|  [1.0,0.0]|       0.0|\n",
            "|[36.32,5652087.32...|    0|[2611231.0,0.0]|  [1.0,0.0]|       0.0|\n",
            "|[38.78,4121347.72...|    0|[2611231.0,0.0]|  [1.0,0.0]|       0.0|\n",
            "|[40.27,7735837.17...|    0|[2611231.0,0.0]|  [1.0,0.0]|       0.0|\n",
            "|[42.49,293.0,335....|    0|[2611231.0,0.0]|  [1.0,0.0]|       0.0|\n",
            "|[47.95,738316.78,...|    0|[2611231.0,0.0]|  [1.0,0.0]|       0.0|\n",
            "|[54.69,4911737.31...|    0|[2611231.0,0.0]|  [1.0,0.0]|       0.0|\n",
            "|[56.26,60167.0,60...|    0|[2611231.0,0.0]|  [1.0,0.0]|       0.0|\n",
            "|[57.98,1290788.6,...|    0|[2611231.0,0.0]|  [1.0,0.0]|       0.0|\n",
            "+--------------------+-----+---------------+-----------+----------+\n",
            "only showing top 20 rows\n",
            "\n"
          ],
          "name": "stdout"
        }
      ]
    },
    {
      "cell_type": "code",
      "metadata": {
        "id": "p2UhGEbzYUaP",
        "colab_type": "code",
        "colab": {
          "base_uri": "https://localhost:8080/",
          "height": 34
        },
        "outputId": "eeb2fa74-1787-4faa-d243-fd44fc019893"
      },
      "source": [
        "# evaluating decision tree model\n",
        "\n",
        "evaluator = BinaryClassificationEvaluator()\n",
        "print(\"Test Area under ROC: \" + str(evaluator.evaluate(predictions, {evaluator.metricName: \"areaUnderROC\"})))"
      ],
      "execution_count": 64,
      "outputs": [
        {
          "output_type": "stream",
          "text": [
            "Test Area under ROC: 0.8355059052361482\n"
          ],
          "name": "stdout"
        }
      ]
    },
    {
      "cell_type": "code",
      "metadata": {
        "id": "QTUxXeiXYUWo",
        "colab_type": "code",
        "colab": {}
      },
      "source": [
        ""
      ],
      "execution_count": null,
      "outputs": []
    },
    {
      "cell_type": "markdown",
      "metadata": {
        "id": "gUMp0SHhaxsU",
        "colab_type": "text"
      },
      "source": [
        "## ***Random Forest Classifier***"
      ]
    },
    {
      "cell_type": "code",
      "metadata": {
        "id": "F2PSpTJuawwm",
        "colab_type": "code",
        "colab": {}
      },
      "source": [
        "from pyspark.ml.classification import RandomForestClassifier"
      ],
      "execution_count": 65,
      "outputs": []
    },
    {
      "cell_type": "code",
      "metadata": {
        "id": "2OVHwHzFYT8c",
        "colab_type": "code",
        "colab": {
          "base_uri": "https://localhost:8080/",
          "height": 289
        },
        "outputId": "c497c8d8-58aa-4cd8-fc86-bd791b478a95"
      },
      "source": [
        "rf = RandomForestClassifier()\n",
        "rfModel = rf.fit(train_data)\n",
        "predictions = rfModel.transform(test_data)\n",
        "predictions.show(10)"
      ],
      "execution_count": 67,
      "outputs": [
        {
          "output_type": "stream",
          "text": [
            "+--------------------+-----+--------------------+--------------------+----------+\n",
            "|            features|label|       rawPrediction|         probability|prediction|\n",
            "+--------------------+-----+--------------------+--------------------+----------+\n",
            "|[4.35,4136277.22,...|    0|[19.9999991997548...|[0.99999995998774...|       0.0|\n",
            "|[4.58,94241.0,942...|    0|[19.9999955595753...|[0.99999977797876...|       0.0|\n",
            "|[4.71,50198.0,502...|    0|[19.9934220854783...|[0.99967110427391...|       0.0|\n",
            "|[9.02,2416260.59,...|    0|[19.9999991997548...|[0.99999995998774...|       0.0|\n",
            "|[11.13,4116439.74...|    0|[19.9999991997548...|[0.99999995998774...|       0.0|\n",
            "|[16.3,2.140511936...|    0|[19.9999991997548...|[0.99999995998774...|       0.0|\n",
            "|[17.33,8964056.72...|    0|[19.9999991997548...|[0.99999995998774...|       0.0|\n",
            "|(7,[0,2,5],[22.31...|    0|[19.9917800858351...|[0.99958900429175...|       0.0|\n",
            "|[22.67,405940.0,4...|    0|[19.9999991997548...|[0.99999995998774...|       0.0|\n",
            "|[34.58,26620.0,26...|    0|[19.9893295042397...|[0.99946647521199...|       0.0|\n",
            "+--------------------+-----+--------------------+--------------------+----------+\n",
            "only showing top 10 rows\n",
            "\n"
          ],
          "name": "stdout"
        }
      ]
    },
    {
      "cell_type": "code",
      "metadata": {
        "id": "3uSM_NRrYT1w",
        "colab_type": "code",
        "colab": {
          "base_uri": "https://localhost:8080/",
          "height": 34
        },
        "outputId": "b7e87df5-2194-4dc0-f242-7d204bd30e05"
      },
      "source": [
        "evaluator = BinaryClassificationEvaluator()\n",
        "print(\"Test Area Under ROC: \" + str(evaluator.evaluate(predictions, {evaluator.metricName: \"areaUnderROC\"})))"
      ],
      "execution_count": 68,
      "outputs": [
        {
          "output_type": "stream",
          "text": [
            "Test Area Under ROC: 0.9853593010213733\n"
          ],
          "name": "stdout"
        }
      ]
    },
    {
      "cell_type": "code",
      "metadata": {
        "id": "iDaX-YTTdC7I",
        "colab_type": "code",
        "colab": {}
      },
      "source": [
        ""
      ],
      "execution_count": null,
      "outputs": []
    },
    {
      "cell_type": "markdown",
      "metadata": {
        "id": "tLbCfbJEdVhK",
        "colab_type": "text"
      },
      "source": [
        "## ***Gradient Boosted Tree Classifier***"
      ]
    },
    {
      "cell_type": "code",
      "metadata": {
        "id": "kK-2kM_vdZ-H",
        "colab_type": "code",
        "colab": {
          "base_uri": "https://localhost:8080/",
          "height": 289
        },
        "outputId": "6be3682a-84b2-4067-c8b3-4b7e2f290628"
      },
      "source": [
        "from pyspark.ml.classification import GBTClassifier\n",
        "gbt = GBTClassifier(maxIter=10)\n",
        "gbtModel = gbt.fit(train_data)\n",
        "predictions = gbtModel.transform(test_data)\n",
        "predictions.show(10)"
      ],
      "execution_count": 69,
      "outputs": [
        {
          "output_type": "stream",
          "text": [
            "+--------------------+-----+--------------------+--------------------+----------+\n",
            "|            features|label|       rawPrediction|         probability|prediction|\n",
            "+--------------------+-----+--------------------+--------------------+----------+\n",
            "|[4.35,4136277.22,...|    0|[1.32590270239801...|[0.93412217850539...|       0.0|\n",
            "|[4.58,94241.0,942...|    0|[1.32590268514129...|[0.93412217638151...|       0.0|\n",
            "|[4.71,50198.0,502...|    0|[1.32590268514129...|[0.93412217638151...|       0.0|\n",
            "|[9.02,2416260.59,...|    0|[1.32590270239801...|[0.93412217850539...|       0.0|\n",
            "|[11.13,4116439.74...|    0|[1.32590270239801...|[0.93412217850539...|       0.0|\n",
            "|[16.3,2.140511936...|    0|[1.32590270239801...|[0.93412217850539...|       0.0|\n",
            "|[17.33,8964056.72...|    0|[1.32590270239801...|[0.93412217850539...|       0.0|\n",
            "|(7,[0,2,5],[22.31...|    0|[1.32590268514140...|[0.93412217638152...|       0.0|\n",
            "|[22.67,405940.0,4...|    0|[1.32590268514129...|[0.93412217638151...|       0.0|\n",
            "|[34.58,26620.0,26...|    0|[1.32590268514129...|[0.93412217638151...|       0.0|\n",
            "+--------------------+-----+--------------------+--------------------+----------+\n",
            "only showing top 10 rows\n",
            "\n"
          ],
          "name": "stdout"
        }
      ]
    },
    {
      "cell_type": "code",
      "metadata": {
        "id": "V0WxdbG1dkga",
        "colab_type": "code",
        "colab": {
          "base_uri": "https://localhost:8080/",
          "height": 34
        },
        "outputId": "bf20600a-4ba8-4725-e284-19c0f19f54ad"
      },
      "source": [
        "evaluator = BinaryClassificationEvaluator()\n",
        "print(\"Test Area Under ROC: \" + str(evaluator.evaluate(predictions, {evaluator.metricName: \"areaUnderROC\"})))"
      ],
      "execution_count": 70,
      "outputs": [
        {
          "output_type": "stream",
          "text": [
            "Test Area Under ROC: 0.9898562451415124\n"
          ],
          "name": "stdout"
        }
      ]
    },
    {
      "cell_type": "code",
      "metadata": {
        "id": "ejPfivEMio5o",
        "colab_type": "code",
        "colab": {}
      },
      "source": [
        ""
      ],
      "execution_count": null,
      "outputs": []
    }
  ]
}